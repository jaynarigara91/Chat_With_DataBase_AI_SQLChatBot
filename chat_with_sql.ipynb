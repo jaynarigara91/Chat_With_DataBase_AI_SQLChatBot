{
 "cells": [
  {
   "cell_type": "code",
   "execution_count": 1,
   "metadata": {},
   "outputs": [],
   "source": [
    "# pip install langchain\n",
    "# pip install openai \n",
    "# pip install pymysql"
   ]
  },
  {
   "cell_type": "code",
   "execution_count": 6,
   "metadata": {},
   "outputs": [],
   "source": [
    "# pip install -r requirements.txt"
   ]
  },
  {
   "cell_type": "code",
   "execution_count": null,
   "metadata": {},
   "outputs": [],
   "source": [
    "import openai\n",
    "openai.api_key = \"API_KEY\""
   ]
  },
  {
   "cell_type": "code",
   "execution_count": 11,
   "metadata": {},
   "outputs": [],
   "source": [
    "import os\n",
    "from langchain.agents import *\n",
    "from langchain.llms import OpenAI\n",
    "from langchain.sql_database import SQLDatabase\n",
    "from langchain.agents.agent_toolkits import SQLDatabaseToolkit\n",
    "from langchain.agents import AgentExecutor"
   ]
  },
  {
   "cell_type": "code",
   "execution_count": 12,
   "metadata": {},
   "outputs": [],
   "source": [
    "user = 'root'\n",
    "password = '123'\n",
    "host = 'localhost'\n",
    "database_name = 'pizzahut'\n",
    "db = SQLDatabase.from_uri(f\"mysql+pymysql://{user}:{password}@{host}/{database_name}\")"
   ]
  },
  {
   "cell_type": "code",
   "execution_count": null,
   "metadata": {},
   "outputs": [],
   "source": [
    "from langchain.chat_models import ChatOpenAI\n",
    "llm = ChatOpenAI(model_name = \"gpt-3.5-turbo\",openai_api_key=\"API_KEY\")"
   ]
  },
  {
   "cell_type": "code",
   "execution_count": 14,
   "metadata": {},
   "outputs": [],
   "source": [
    "toolkit = SQLDatabaseToolkit(db=db , llm=llm)"
   ]
  },
  {
   "cell_type": "code",
   "execution_count": 15,
   "metadata": {},
   "outputs": [],
   "source": [
    "agent_executer = create_sql_agent(\n",
    "    llm=llm,\n",
    "    toolkit=toolkit,\n",
    "    verbose=True\n",
    ")"
   ]
  },
  {
   "cell_type": "code",
   "execution_count": 16,
   "metadata": {},
   "outputs": [
    {
     "name": "stderr",
     "output_type": "stream",
     "text": [
      "C:\\Users\\ADMIN\\AppData\\Local\\Temp\\ipykernel_39020\\3310466379.py:1: LangChainDeprecationWarning: The method `Chain.run` was deprecated in langchain 0.1.0 and will be removed in 1.0. Use :meth:`~invoke` instead.\n",
      "  agent_executer.run(\"How many tabels do we have?\")\n"
     ]
    },
    {
     "name": "stdout",
     "output_type": "stream",
     "text": [
      "\n",
      "\n",
      "\u001b[1m> Entering new SQL Agent Executor chain...\u001b[0m\n",
      "\u001b[32;1m\u001b[1;3mAction: sql_db_list_tables\n",
      "Action Input: \u001b[0m\u001b[38;5;200m\u001b[1;3morders, orders_details, pizza_types, pizzas\u001b[0m\u001b[32;1m\u001b[1;3mI should query the schema of these tables to get more information.\n",
      "Action: sql_db_schema\n",
      "Action Input: orders, orders_details, pizza_types, pizzas\u001b[0m\u001b[33;1m\u001b[1;3m\n",
      "CREATE TABLE orders (\n",
      "\torder_id INTEGER NOT NULL, \n",
      "\torder_date DATE NOT NULL, \n",
      "\torder_time TIME NOT NULL, \n",
      "\tPRIMARY KEY (order_id)\n",
      ")DEFAULT CHARSET=utf8mb4 COLLATE utf8mb4_0900_ai_ci ENGINE=InnoDB\n",
      "\n",
      "/*\n",
      "3 rows from orders table:\n",
      "order_id\torder_date\torder_time\n",
      "1\t2015-01-01\t11:38:36\n",
      "2\t2015-01-01\t11:57:40\n",
      "3\t2015-01-01\t12:12:28\n",
      "*/\n",
      "\n",
      "\n",
      "CREATE TABLE orders_details (\n",
      "\torder_details_id INTEGER NOT NULL, \n",
      "\torder_id INTEGER NOT NULL, \n",
      "\tpizza_id TEXT NOT NULL, \n",
      "\tquantity TIME NOT NULL, \n",
      "\tPRIMARY KEY (order_details_id)\n",
      ")DEFAULT CHARSET=utf8mb4 COLLATE utf8mb4_0900_ai_ci ENGINE=InnoDB\n",
      "\n",
      "/*\n",
      "3 rows from orders_details table:\n",
      "order_details_id\torder_id\tpizza_id\tquantity\n",
      "1\t1\thawaiian_m\t00:00:01\n",
      "2\t2\tclassic_dlx_m\t00:00:01\n",
      "3\t2\tfive_cheese_l\t00:00:01\n",
      "*/\n",
      "\n",
      "\n",
      "CREATE TABLE pizza_types (\n",
      "\tpizza_type_id TEXT, \n",
      "\tname TEXT, \n",
      "\tcategory TEXT, \n",
      "\tingredients TEXT\n",
      ")DEFAULT CHARSET=utf8mb4 COLLATE utf8mb4_0900_ai_ci ENGINE=InnoDB\n",
      "\n",
      "/*\n",
      "3 rows from pizza_types table:\n",
      "pizza_type_id\tname\tcategory\tingredients\n",
      "bbq_ckn\tThe Barbecue Chicken Pizza\tChicken\tBarbecued Chicken, Red Peppers, Green Peppers, Tomatoes, Red Onions, Barbecue Sauce\n",
      "cali_ckn\tThe California Chicken Pizza\tChicken\tChicken, Artichoke, Spinach, Garlic, Jalapeno Peppers, Fontina Cheese, Gouda Cheese\n",
      "ckn_alfredo\tThe Chicken Alfredo Pizza\tChicken\tChicken, Red Onions, Red Peppers, Mushrooms, Asiago Cheese, Alfredo Sauce\n",
      "*/\n",
      "\n",
      "\n",
      "CREATE TABLE pizzas (\n",
      "\tpizza_id TEXT, \n",
      "\tpizza_type_id TEXT, \n",
      "\tsize TEXT, \n",
      "\tprice DOUBLE\n",
      ")DEFAULT CHARSET=utf8mb4 COLLATE utf8mb4_0900_ai_ci ENGINE=InnoDB\n",
      "\n",
      "/*\n",
      "3 rows from pizzas table:\n",
      "pizza_id\tpizza_type_id\tsize\tprice\n",
      "bbq_ckn_s\tbbq_ckn\tS\t12.7500000000\n",
      "bbq_ckn_m\tbbq_ckn\tM\t16.7500000000\n",
      "bbq_ckn_l\tbbq_ckn\tL\t20.7500000000\n",
      "*/\u001b[0m\u001b[32;1m\u001b[1;3mThere are 4 tables in the database: orders, orders_details, pizza_types, and pizzas.\n",
      "\n",
      "Final Answer: 4 tables\u001b[0m\n",
      "\n",
      "\u001b[1m> Finished chain.\u001b[0m\n"
     ]
    },
    {
     "data": {
      "text/plain": [
       "'4 tables'"
      ]
     },
     "execution_count": 16,
     "metadata": {},
     "output_type": "execute_result"
    }
   ],
   "source": [
    "agent_executer.run(\"How many tabels do we have?\")"
   ]
  },
  {
   "cell_type": "code",
   "execution_count": 24,
   "metadata": {},
   "outputs": [
    {
     "name": "stdout",
     "output_type": "stream",
     "text": [
      "\n",
      "\n",
      "\u001b[1m> Entering new SQL Agent Executor chain...\u001b[0m\n",
      "\u001b[32;1m\u001b[1;3mAction: sql_db_list_tables\n",
      "Action Input: \u001b[0m\u001b[38;5;200m\u001b[1;3morders, orders_details, pizza_types, pizzas\u001b[0m\u001b[32;1m\u001b[1;3mI should query the schema of the orders and orders_details tables to find the relevant information.\n",
      "Action: sql_db_schema\n",
      "Action Input: orders, orders_details\u001b[0m\u001b[33;1m\u001b[1;3m\n",
      "CREATE TABLE orders (\n",
      "\torder_id INTEGER NOT NULL, \n",
      "\torder_date DATE NOT NULL, \n",
      "\torder_time TIME NOT NULL, \n",
      "\tPRIMARY KEY (order_id)\n",
      ")ENGINE=InnoDB DEFAULT CHARSET=utf8mb4 COLLATE utf8mb4_0900_ai_ci\n",
      "\n",
      "/*\n",
      "3 rows from orders table:\n",
      "order_id\torder_date\torder_time\n",
      "1\t2015-01-01\t11:38:36\n",
      "2\t2015-01-01\t11:57:40\n",
      "3\t2015-01-01\t12:12:28\n",
      "*/\n",
      "\n",
      "\n",
      "CREATE TABLE orders_details (\n",
      "\torder_details_id INTEGER NOT NULL, \n",
      "\torder_id INTEGER NOT NULL, \n",
      "\tpizza_id TEXT NOT NULL, \n",
      "\tquantity TIME NOT NULL, \n",
      "\tPRIMARY KEY (order_details_id)\n",
      ")ENGINE=InnoDB DEFAULT CHARSET=utf8mb4 COLLATE utf8mb4_0900_ai_ci\n",
      "\n",
      "/*\n",
      "3 rows from orders_details table:\n",
      "order_details_id\torder_id\tpizza_id\tquantity\n",
      "1\t1\thawaiian_m\t00:00:01\n",
      "2\t2\tclassic_dlx_m\t00:00:01\n",
      "3\t2\tfive_cheese_l\t00:00:01\n",
      "*/\u001b[0m\u001b[32;1m\u001b[1;3mI can query the total number of orders and the total earnings by joining the orders and orders_details tables to calculate the sum of quantities multiplied by the price of each pizza.\n",
      "Action: sql_db_query\n",
      "Action Input: SELECT COUNT(DISTINCT o.order_id) AS num_orders, SUM(p.price * TIME_TO_SEC(od.quantity)) AS total_earnings\n",
      "FROM orders o\n",
      "JOIN orders_details od ON o.order_id = od.order_id\n",
      "JOIN pizzas p ON od.pizza_id = p.pizza_id;\u001b[0m\u001b[36;1m\u001b[1;3m[(21350, 817860.049999993)]\u001b[0m\u001b[32;1m\u001b[1;3mI now know the final answer.\n",
      "Final Answer: We have received 21,350 orders and earned a total of $817,860.05.\u001b[0m\n",
      "\n",
      "\u001b[1m> Finished chain.\u001b[0m\n"
     ]
    },
    {
     "data": {
      "text/plain": [
       "'We have received 21,350 orders and earned a total of $817,860.05.'"
      ]
     },
     "execution_count": 24,
     "metadata": {},
     "output_type": "execute_result"
    }
   ],
   "source": [
    "agent_executer.run('How Many orders we get and how much money we earn?')"
   ]
  }
 ],
 "metadata": {
  "kernelspec": {
   "display_name": "project",
   "language": "python",
   "name": "python3"
  },
  "language_info": {
   "codemirror_mode": {
    "name": "ipython",
    "version": 3
   },
   "file_extension": ".py",
   "mimetype": "text/x-python",
   "name": "python",
   "nbconvert_exporter": "python",
   "pygments_lexer": "ipython3",
   "version": "3.11.7"
  }
 },
 "nbformat": 4,
 "nbformat_minor": 2
}
